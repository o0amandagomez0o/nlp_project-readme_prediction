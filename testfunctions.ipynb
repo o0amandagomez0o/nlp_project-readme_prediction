{
 "cells": [
  {
   "cell_type": "markdown",
   "metadata": {},
   "source": [
    "## Create a \"button\"/link to jump to the top and bottom\n",
    "- There is a hidden anchor labeled \"toc\" to anchor to the Table of Contents, or label top to \"jump back to the top\"."
   ]
  },
  {
   "cell_type": "markdown",
   "metadata": {},
   "source": [
    "<a id='toc'></a>\n",
    "\n",
    "[Jump to the bottom of Repo](#bottom)"
   ]
  },
  {
   "cell_type": "markdown",
   "metadata": {},
   "source": [
    "**I have repeated this process at the bottom to anchor the bottom of my NB.**\n",
    "\n",
    "[Jump to the bottom of Repo](#bottom)"
   ]
  },
  {
   "cell_type": "markdown",
   "metadata": {},
   "source": [
    "___\n",
    "\n",
    "## Workflow\n",
    "\n",
    "1. [Import](#import)\n",
    "1. [Acquire Data](#acquire-data)\n",
    "1. [Clean, Prep & Split Data](#clean-prep-and-split-data)\n",
    "1. [Explore Data](#explore-data)\n",
    "    - [Hypothesis Testing](#hypothesis-testing)\n",
    "1. [Feature Importance](#feature-importance)\n",
    "1. [Modeling](#modeling)\n",
    "    - [Identify Baseline](#identify-baseline)\n",
    "    - [Model on Train](#model-on-train)\n",
    "    - [Model on Validate](#model-on-validate)\n",
    "    - [Model on Test](#model-on-test)\n",
    "  \n",
    "7. [Drivers](#drivers)\n",
    "\n",
    "8. [Conclusion](#conclusion)\n"
   ]
  },
  {
   "cell_type": "markdown",
   "metadata": {},
   "source": [
    "___\n",
    "# <a name=\"import\"></a>1. Import \n",
    "Import all necessary libraries and functions. "
   ]
  },
  {
   "cell_type": "code",
   "execution_count": null,
   "metadata": {},
   "outputs": [],
   "source": []
  },
  {
   "cell_type": "markdown",
   "metadata": {},
   "source": [
    " [Jump to Table of Contents](#toc)\n",
    "___\n",
    "# <a name=\"acquire-data\"></a>2. Acquire Data\n",
    "#### Reads in  `Austin_Animal_Center_Intakes.csv` & `Austin_Animal_Center_Outcomes.csv` data from your local file using the `get_aac()` function in [`wrangle.py`](wrangle.py)"
   ]
  },
  {
   "cell_type": "code",
   "execution_count": null,
   "metadata": {},
   "outputs": [],
   "source": []
  },
  {
   "cell_type": "markdown",
   "metadata": {},
   "source": [
    " [Jump to Table of Contents](#toc)\n",
    "___\n",
    "# <a name=\"clean-prep-and-split-data\"></a>3. Clean, Prep and Split Data\n",
    "Using two functions located in `wrangle.py` file:\n",
    "- [`clean_aac()`](wrangle.py)\n",
    "- [`split_df()`](wrangle.py)\n",
    "\n",
    "I will perform the cleaning, prepping and splitting of my data:"
   ]
  },
  {
   "cell_type": "code",
   "execution_count": null,
   "metadata": {},
   "outputs": [],
   "source": []
  },
  {
   "cell_type": "markdown",
   "metadata": {},
   "source": [
    " [Jump to Table of Contents](#toc)\n",
    "___\n",
    "# <a name=\"explore-data\"></a>4. Explore Data"
   ]
  },
  {
   "cell_type": "code",
   "execution_count": null,
   "metadata": {},
   "outputs": [],
   "source": []
  },
  {
   "cell_type": "markdown",
   "metadata": {},
   "source": [
    " [Jump to Table of Contents](#toc)\n",
    "___\n",
    "\n",
    "# <a name=\"hypothesis-testing\"></a>• Hypothesis Testing"
   ]
  },
  {
   "cell_type": "code",
   "execution_count": null,
   "metadata": {},
   "outputs": [],
   "source": []
  },
  {
   "cell_type": "markdown",
   "metadata": {},
   "source": [
    " [Jump to Table of Contents](#toc)\n",
    "___\n",
    "# <a name=\"feature-importance\"></a>5. Feature Importance"
   ]
  },
  {
   "cell_type": "code",
   "execution_count": null,
   "metadata": {},
   "outputs": [],
   "source": []
  },
  {
   "cell_type": "markdown",
   "metadata": {},
   "source": [
    " [Jump to Table of Contents](#toc)\n",
    "___\n",
    "# <a name=\"modeling\"></a>6. Modeling"
   ]
  },
  {
   "cell_type": "code",
   "execution_count": null,
   "metadata": {},
   "outputs": [],
   "source": []
  },
  {
   "cell_type": "markdown",
   "metadata": {},
   "source": [
    " [Jump to Table of Contents](#toc)\n",
    "___\n",
    "# <a name=\"identify-baseline\"></a>• Identify Baseline"
   ]
  },
  {
   "cell_type": "code",
   "execution_count": null,
   "metadata": {},
   "outputs": [],
   "source": []
  },
  {
   "cell_type": "markdown",
   "metadata": {},
   "source": [
    " [Jump to Table of Contents](#toc)\n",
    "___\n",
    "# <a name=\"model-on-train\"></a>• Model on Train"
   ]
  },
  {
   "cell_type": "code",
   "execution_count": null,
   "metadata": {},
   "outputs": [],
   "source": []
  },
  {
   "cell_type": "markdown",
   "metadata": {},
   "source": [
    "[Jump to Table of Contents](#toc)\n",
    "___\n",
    "# <a name=\"model-on-validate\"></a>• Model on Validate"
   ]
  },
  {
   "cell_type": "code",
   "execution_count": null,
   "metadata": {},
   "outputs": [],
   "source": []
  },
  {
   "cell_type": "markdown",
   "metadata": {},
   "source": [
    "[Jump to Table of Contents](#toc)\n",
    "___\n",
    "# <a name=\"model-on-test\"></a>• Model on Test"
   ]
  },
  {
   "cell_type": "code",
   "execution_count": null,
   "metadata": {},
   "outputs": [],
   "source": []
  },
  {
   "cell_type": "markdown",
   "metadata": {},
   "source": [
    "[Jump to Table of Contents](#toc)\n",
    "___\n",
    "# <a name=\"drivers\"></a>12. Drivers"
   ]
  },
  {
   "cell_type": "code",
   "execution_count": null,
   "metadata": {},
   "outputs": [],
   "source": []
  },
  {
   "cell_type": "markdown",
   "metadata": {},
   "source": [
    "[Jump to Table of Contents](#toc)\n",
    "___\n",
    "# <a name=\"conclusion\"></a>13. Conclusion"
   ]
  },
  {
   "cell_type": "code",
   "execution_count": null,
   "metadata": {},
   "outputs": [],
   "source": []
  },
  {
   "cell_type": "markdown",
   "metadata": {},
   "source": [
    "[Jump to Table of Contents](#toc)\n",
    "\n",
    "<a id='bottom'></a>"
   ]
  }
 ],
 "metadata": {
  "kernelspec": {
   "display_name": "Python 3",
   "language": "python",
   "name": "python3"
  },
  "language_info": {
   "codemirror_mode": {
    "name": "ipython",
    "version": 3
   },
   "file_extension": ".py",
   "mimetype": "text/x-python",
   "name": "python",
   "nbconvert_exporter": "python",
   "pygments_lexer": "ipython3",
   "version": "3.8.5"
  }
 },
 "nbformat": 4,
 "nbformat_minor": 4
}
