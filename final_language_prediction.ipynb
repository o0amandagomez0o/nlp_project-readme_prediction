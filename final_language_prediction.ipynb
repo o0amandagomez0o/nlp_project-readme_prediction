{
 "cells": [
  {
   "cell_type": "code",
   "execution_count": null,
   "metadata": {},
   "outputs": [],
   "source": []
  },
  {
   "cell_type": "markdown",
   "metadata": {},
   "source": [
    "<a id='toc'></a>\n"
   ]
  },
  {
   "cell_type": "markdown",
   "metadata": {},
   "source": [
    "![readmebanner](https://i.pinimg.com/originals/80/0d/58/800d58c4377ac582c1174125dd83a4f4.png)\n",
    "![exesummary]()"
   ]
  },
  {
   "cell_type": "markdown",
   "metadata": {},
   "source": [
    "___\n",
    "\n",
    "## Workflow\n",
    "\n",
    "1. [Import](#import)\n",
    "1. [Acquire Data](#acquire-data)\n",
    "1. [Clean, Prep & Split Data](#clean-prep-and-split-data)\n",
    "1. [Explore Data](#explore-data)\n",
    "    - [Hypothesis Testing](#hypothesis-testing)\n",
    "1. [Feature Importance](#feature-importance)\n",
    "1. [Modeling](#modeling)\n",
    "    - [Identify Baseline](#identify-baseline)\n",
    "    - [Model on Train](#model-on-train)\n",
    "    - [Model on Validate](#model-on-validate)\n",
    "    - [Model on Test](#model-on-test)\n",
    "  \n",
    "7. [Drivers](#drivers)\n",
    "\n",
    "8. [Conclusion](#conclusion)\n"
   ]
  },
  {
   "cell_type": "markdown",
   "metadata": {},
   "source": [
    "___\n",
    "# <a name=\"import\"></a>1. Import \n",
    "Import all necessary libraries and functions. "
   ]
  },
  {
   "cell_type": "code",
   "execution_count": 1,
   "metadata": {},
   "outputs": [],
   "source": [
    "# acquire\n",
    "import json\n",
    "from typing import Dict, List, Optional, Union, cast\n",
    "import requests\n",
    "import numpy as np\n",
    "import pandas as pd\n",
    "from env import github_token, github_username\n",
    "from requests import get\n",
    "from bs4 import BeautifulSoup\n",
    "import os\n",
    "\n",
    "import acquire_zach as az\n",
    "import wrangle as w\n",
    "\n",
    "\n",
    "# prepare\n",
    "import unicodedata\n",
    "import re\n",
    "import json\n",
    "import nltk\n",
    "from nltk.tokenize.toktok import ToktokTokenizer\n",
    "from nltk.corpus import stopwords\n",
    "\n",
    "# explore\n",
    "from sklearn.model_selection import train_test_split\n",
    "%matplotlib inline\n",
    "import matplotlib.pyplot as plt\n",
    "import seaborn as sns\n",
    "from wordcloud import WordCloud\n",
    "from PIL import Image\n",
    "from wordcloud import ImageColorGenerator\n",
    "\n",
    "# model\n",
    "from pprint import pprint\n",
    "from sklearn.feature_extraction.text import CountVectorizer\n",
    "from sklearn.feature_extraction.text import TfidfVectorizer\n",
    "from sklearn.metrics import confusion_matrix, classification_report\n",
    "from sklearn.tree import DecisionTreeClassifier\n",
    "from sklearn.tree import export_graphviz\n",
    "from sklearn.ensemble import RandomForestClassifier\n",
    "from sklearn.neighbors import KNeighborsClassifier\n",
    "from sklearn.linear_model import LogisticRegression\n",
    "\n",
    "from model import get_metrics"
   ]
  },
  {
   "cell_type": "markdown",
   "metadata": {},
   "source": [
    " [Jump to Table of Contents](#toc)\n",
    "___\n",
    "# <a name=\"acquire-data\"></a>2. Acquire Data\n",
    "#### Reads in  `google_readmes1020.csv` from your local file using the `get_aac()` function in [`wrangle.py`](wrangle.py)"
   ]
  },
  {
   "cell_type": "code",
   "execution_count": null,
   "metadata": {},
   "outputs": [],
   "source": []
  },
  {
   "cell_type": "markdown",
   "metadata": {},
   "source": [
    " [Jump to Table of Contents](#toc)\n",
    "___\n",
    "# <a name=\"clean-prep-and-split-data\"></a>3. Clean, Prep and Split Data\n",
    "Using two functions located in `wrangle.py` file:\n",
    "- [`clean_aac()`](wrangle.py)\n",
    "- [`split_df()`](wrangle.py)\n",
    "\n",
    "I will perform the cleaning, prepping and splitting of my data:"
   ]
  },
  {
   "cell_type": "code",
   "execution_count": null,
   "metadata": {},
   "outputs": [],
   "source": []
  },
  {
   "cell_type": "markdown",
   "metadata": {},
   "source": [
    " [Jump to Table of Contents](#toc)\n",
    "___\n",
    "# <a name=\"explore-data\"></a>4. Explore Data"
   ]
  },
  {
   "cell_type": "code",
   "execution_count": null,
   "metadata": {},
   "outputs": [],
   "source": []
  },
  {
   "cell_type": "markdown",
   "metadata": {},
   "source": [
    " [Jump to Table of Contents](#toc)\n",
    "___\n",
    "\n",
    "# <a name=\"hypothesis-testing\"></a>• Hypothesis Testing"
   ]
  },
  {
   "cell_type": "code",
   "execution_count": null,
   "metadata": {},
   "outputs": [],
   "source": []
  },
  {
   "cell_type": "markdown",
   "metadata": {},
   "source": [
    " [Jump to Table of Contents](#toc)\n",
    "___\n",
    "# <a name=\"feature-importance\"></a>5. Feature Importance"
   ]
  },
  {
   "cell_type": "code",
   "execution_count": null,
   "metadata": {},
   "outputs": [],
   "source": []
  },
  {
   "cell_type": "markdown",
   "metadata": {},
   "source": [
    " [Jump to Table of Contents](#toc)\n",
    "___\n",
    "# <a name=\"modeling\"></a>6. Modeling"
   ]
  },
  {
   "cell_type": "code",
   "execution_count": null,
   "metadata": {},
   "outputs": [],
   "source": []
  },
  {
   "cell_type": "markdown",
   "metadata": {},
   "source": [
    " [Jump to Table of Contents](#toc)\n",
    "___\n",
    "# <a name=\"identify-baseline\"></a>• Identify Baseline"
   ]
  },
  {
   "cell_type": "code",
   "execution_count": null,
   "metadata": {},
   "outputs": [],
   "source": []
  },
  {
   "cell_type": "markdown",
   "metadata": {},
   "source": [
    " [Jump to Table of Contents](#toc)\n",
    "___\n",
    "# <a name=\"model-on-train\"></a>• Model on Train"
   ]
  },
  {
   "cell_type": "code",
   "execution_count": null,
   "metadata": {},
   "outputs": [],
   "source": []
  },
  {
   "cell_type": "markdown",
   "metadata": {},
   "source": [
    "[Jump to Table of Contents](#toc)\n",
    "___\n",
    "# <a name=\"model-on-validate\"></a>• Model on Validate"
   ]
  },
  {
   "cell_type": "code",
   "execution_count": null,
   "metadata": {},
   "outputs": [],
   "source": []
  },
  {
   "cell_type": "markdown",
   "metadata": {},
   "source": [
    "[Jump to Table of Contents](#toc)\n",
    "___\n",
    "# <a name=\"model-on-test\"></a>• Model on Test"
   ]
  },
  {
   "cell_type": "code",
   "execution_count": null,
   "metadata": {},
   "outputs": [],
   "source": []
  },
  {
   "cell_type": "markdown",
   "metadata": {},
   "source": [
    "[Jump to Table of Contents](#toc)\n",
    "___\n",
    "# <a name=\"drivers\"></a>12. Drivers"
   ]
  },
  {
   "cell_type": "code",
   "execution_count": null,
   "metadata": {},
   "outputs": [],
   "source": []
  },
  {
   "cell_type": "markdown",
   "metadata": {},
   "source": [
    "[Jump to Table of Contents](#toc)\n",
    "___\n",
    "# <a name=\"conclusion\"></a>13. Conclusion"
   ]
  },
  {
   "cell_type": "code",
   "execution_count": null,
   "metadata": {},
   "outputs": [],
   "source": []
  },
  {
   "cell_type": "markdown",
   "metadata": {},
   "source": [
    "[Jump to Table of Contents](#toc)\n",
    "\n",
    "<a id='bottom'></a>"
   ]
  }
 ],
 "metadata": {
  "kernelspec": {
   "display_name": "Python 3",
   "language": "python",
   "name": "python3"
  },
  "language_info": {
   "codemirror_mode": {
    "name": "ipython",
    "version": 3
   },
   "file_extension": ".py",
   "mimetype": "text/x-python",
   "name": "python",
   "nbconvert_exporter": "python",
   "pygments_lexer": "ipython3",
   "version": "3.8.5"
  }
 },
 "nbformat": 4,
 "nbformat_minor": 4
}
